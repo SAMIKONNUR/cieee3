{
  "nbformat": 4,
  "nbformat_minor": 0,
  "metadata": {
    "colab": {
      "provenance": [],
      "authorship_tag": "ABX9TyP8uXn5brEsaep7T2AvCW5T",
      "include_colab_link": true
    },
    "kernelspec": {
      "name": "python3",
      "display_name": "Python 3"
    },
    "language_info": {
      "name": "python"
    }
  },
  "cells": [
    {
      "cell_type": "markdown",
      "metadata": {
        "id": "view-in-github",
        "colab_type": "text"
      },
      "source": [
        "<a href=\"https://colab.research.google.com/github/SAMIKONNUR/cieee3/blob/main/cie3.ipynb\" target=\"_parent\"><img src=\"https://colab.research.google.com/assets/colab-badge.svg\" alt=\"Open In Colab\"/></a>"
      ]
    },
    {
      "cell_type": "code",
      "source": [
        "import pandas as pd\n",
        "import matplotlib.pyplot as plt\n",
        "import seaborn as sns\n",
        "import numpy as np\n",
        "from sklearn.model_selection import train_test_split\n",
        "from sklearn.linear_model import LinearRegression\n",
        "\n",
        "df = sns.load_dataset('mpg')\n",
        "\n",
        "mae = mean_absolute_error(y_test,y_pred)\n",
        "mse = mean_squared_error(y_test,y_pred)\n",
        "rmse = np.sqrt(mse)\n",
        "r2 = r2_score(y_test,y_pred)\n",
        "\n",
        "print(\"mean absolute error:\",mae)\n",
        "print(\"root mean squared error:\",rmse)\n",
        "print(\"mean squared error:\",mse)\n",
        "print(\"mean R2 score:\",r2)"
      ],
      "metadata": {
        "colab": {
          "base_uri": "https://localhost:8080/"
        },
        "id": "I2Ok3oWEel-u",
        "outputId": "0c843837-5364-4421-c0d3-15f2a9a51fa4"
      },
      "execution_count": 68,
      "outputs": [
        {
          "output_type": "stream",
          "name": "stdout",
          "text": [
            "mean absolute error: 2.948102969475638\n",
            "root mean squared error: 3.963455774146739\n",
            "mean squared error: 15.708981673617126\n",
            "mean R2 score: 0.7336113251144305\n"
          ]
        }
      ]
    }
  ]
}